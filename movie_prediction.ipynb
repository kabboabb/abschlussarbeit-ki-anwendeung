{
 "cells": [
  {
   "cell_type": "markdown",
   "id": "c9d07a59",
   "metadata": {},
   "source": [
    "# Movie Box Office prediction with sklearn"
   ]
  },
  {
   "cell_type": "markdown",
   "id": "5c333963",
   "metadata": {},
   "source": [
    "### Libraries and settings"
   ]
  },
  {
   "cell_type": "code",
   "execution_count": 61,
   "id": "403920b5",
   "metadata": {},
   "outputs": [],
   "source": [
    "# Libraries\n",
    "import numpy as np\n",
    "import pandas as pd\n",
    "import matplotlib.pyplot as plt\n",
    "from sklearn.ensemble import RandomForestRegressor\n",
    "from sklearn.linear_model import LinearRegression\n",
    "from sklearn.model_selection import train_test_split\n",
    "from sklearn.metrics import mean_squared_error\n",
    "from sklearn.model_selection import cross_val_score"
   ]
  },
  {
   "cell_type": "markdown",
   "id": "ca49324f",
   "metadata": {},
   "source": [
    "### Import the movie data"
   ]
  },
  {
   "cell_type": "code",
   "execution_count": 62,
   "id": "37babfc4",
   "metadata": {},
   "outputs": [
    {
     "name": "stdout",
     "output_type": "stream",
     "text": [
      "(4098, 17)\n"
     ]
    },
    {
     "data": {
      "text/html": [
       "<div>\n",
       "<style scoped>\n",
       "    .dataframe tbody tr th:only-of-type {\n",
       "        vertical-align: middle;\n",
       "    }\n",
       "\n",
       "    .dataframe tbody tr th {\n",
       "        vertical-align: top;\n",
       "    }\n",
       "\n",
       "    .dataframe thead th {\n",
       "        text-align: right;\n",
       "    }\n",
       "</style>\n",
       "<table border=\"1\" class=\"dataframe\">\n",
       "  <thead>\n",
       "    <tr style=\"text-align: right;\">\n",
       "      <th></th>\n",
       "      <th>movie_name</th>\n",
       "      <th>date_x</th>\n",
       "      <th>score</th>\n",
       "      <th>genre</th>\n",
       "      <th>overview</th>\n",
       "      <th>crew</th>\n",
       "      <th>orig_title</th>\n",
       "      <th>status</th>\n",
       "      <th>orig_lang</th>\n",
       "      <th>budget_x</th>\n",
       "      <th>revenue</th>\n",
       "      <th>country</th>\n",
       "      <th>Number</th>\n",
       "      <th>Release Date</th>\n",
       "      <th>Budget</th>\n",
       "      <th>Domestic Gross</th>\n",
       "      <th>Worldwide Gross</th>\n",
       "    </tr>\n",
       "  </thead>\n",
       "  <tbody>\n",
       "    <tr>\n",
       "      <th>0</th>\n",
       "      <td>creed iii</td>\n",
       "      <td>03/02/2023</td>\n",
       "      <td>73.0</td>\n",
       "      <td>Drama, Action</td>\n",
       "      <td>After dominating the boxing world, Adonis Cree...</td>\n",
       "      <td>Michael B. Jordan, Adonis Creed, Tessa Thompso...</td>\n",
       "      <td>Creed III</td>\n",
       "      <td>Released</td>\n",
       "      <td>English</td>\n",
       "      <td>75000000.0</td>\n",
       "      <td>2.716167e+08</td>\n",
       "      <td>AU</td>\n",
       "      <td>771</td>\n",
       "      <td>Mar 1, 2023</td>\n",
       "      <td>$75,000,000</td>\n",
       "      <td>$156,248,615</td>\n",
       "      <td>$274,448,615</td>\n",
       "    </tr>\n",
       "    <tr>\n",
       "      <th>1</th>\n",
       "      <td>avatar: the way of water</td>\n",
       "      <td>12/15/2022</td>\n",
       "      <td>78.0</td>\n",
       "      <td>Science Fiction, Adventure, Action</td>\n",
       "      <td>Set more than a decade after the events of the...</td>\n",
       "      <td>Sam Worthington, Jake Sully, Zoe Saldaña, Neyt...</td>\n",
       "      <td>Avatar: The Way of Water</td>\n",
       "      <td>Released</td>\n",
       "      <td>English</td>\n",
       "      <td>460000000.0</td>\n",
       "      <td>2.316795e+09</td>\n",
       "      <td>AU</td>\n",
       "      <td>2</td>\n",
       "      <td>Dec 9, 2022</td>\n",
       "      <td>$460,000,000</td>\n",
       "      <td>$684,075,767</td>\n",
       "      <td>$2,317,514,386</td>\n",
       "    </tr>\n",
       "    <tr>\n",
       "      <th>2</th>\n",
       "      <td>the super mario bros. movie</td>\n",
       "      <td>04/05/2023</td>\n",
       "      <td>76.0</td>\n",
       "      <td>Animation, Adventure, Family, Fantasy, Comedy</td>\n",
       "      <td>While working underground to fix a water main,...</td>\n",
       "      <td>Chris Pratt, Mario (voice), Anya Taylor-Joy, P...</td>\n",
       "      <td>The Super Mario Bros. Movie</td>\n",
       "      <td>Released</td>\n",
       "      <td>English</td>\n",
       "      <td>100000000.0</td>\n",
       "      <td>7.244590e+08</td>\n",
       "      <td>AU</td>\n",
       "      <td>451</td>\n",
       "      <td>Apr 4, 2023</td>\n",
       "      <td>$100,000,000</td>\n",
       "      <td>$574,934,330</td>\n",
       "      <td>$1,361,553,421</td>\n",
       "    </tr>\n",
       "  </tbody>\n",
       "</table>\n",
       "</div>"
      ],
      "text/plain": [
       "                    movie_name       date_x  score  \\\n",
       "0                    creed iii  03/02/2023    73.0   \n",
       "1     avatar: the way of water  12/15/2022    78.0   \n",
       "2  the super mario bros. movie  04/05/2023    76.0   \n",
       "\n",
       "                                           genre  \\\n",
       "0                                  Drama, Action   \n",
       "1             Science Fiction, Adventure, Action   \n",
       "2  Animation, Adventure, Family, Fantasy, Comedy   \n",
       "\n",
       "                                            overview  \\\n",
       "0  After dominating the boxing world, Adonis Cree...   \n",
       "1  Set more than a decade after the events of the...   \n",
       "2  While working underground to fix a water main,...   \n",
       "\n",
       "                                                crew  \\\n",
       "0  Michael B. Jordan, Adonis Creed, Tessa Thompso...   \n",
       "1  Sam Worthington, Jake Sully, Zoe Saldaña, Neyt...   \n",
       "2  Chris Pratt, Mario (voice), Anya Taylor-Joy, P...   \n",
       "\n",
       "                    orig_title     status orig_lang     budget_x  \\\n",
       "0                    Creed III   Released   English   75000000.0   \n",
       "1     Avatar: The Way of Water   Released   English  460000000.0   \n",
       "2  The Super Mario Bros. Movie   Released   English  100000000.0   \n",
       "\n",
       "        revenue country Number Release Date        Budget Domestic Gross  \\\n",
       "0  2.716167e+08      AU    771  Mar 1, 2023   $75,000,000   $156,248,615   \n",
       "1  2.316795e+09      AU      2  Dec 9, 2022  $460,000,000   $684,075,767   \n",
       "2  7.244590e+08      AU    451  Apr 4, 2023  $100,000,000   $574,934,330   \n",
       "\n",
       "  Worldwide Gross  \n",
       "0    $274,448,615  \n",
       "1  $2,317,514,386  \n",
       "2  $1,361,553,421  "
      ]
     },
     "execution_count": 62,
     "metadata": {},
     "output_type": "execute_result"
    }
   ],
   "source": [
    "imdb = pd.read_csv('data/imdb_movies.csv')\n",
    "budgets = pd.read_csv('data/movie_budgets_and_revenues.csv')\n",
    "\n",
    "# 2. Normalize title columns for merging\n",
    "imdb = imdb.rename(columns={'names': 'movie_name'})\n",
    "budgets = budgets.rename(columns={'Movie Name': 'movie_name'})\n",
    "\n",
    "imdb['movie_name'] = imdb['movie_name'].str.lower().str.strip()\n",
    "budgets['movie_name'] = budgets['movie_name'].str.lower().str.strip()\n",
    "\n",
    "# 3. Merge on movie_name (inner join to keep only matches)\n",
    "df = pd.merge(imdb, budgets, on='movie_name', how='inner')\n",
    "\n",
    "# Save the merged DataFrame as a CSV file\n",
    "df.to_csv('data/movies_data.csv', index=False)\n",
    "\n",
    "# 4. Drop any rows with missing values and remove exact duplicates\n",
    "df = df.dropna().drop_duplicates()\n",
    "\n",
    "# 5. Quick sanity check\n",
    "print(df.shape)\n",
    "df.head(3)\n"
   ]
  },
  {
   "cell_type": "code",
   "execution_count": 63,
   "id": "ed9ed822",
   "metadata": {},
   "outputs": [
    {
     "data": {
      "text/plain": [
       "Index(['movie_name', 'date_x', 'score', 'genre', 'overview', 'crew',\n",
       "       'orig_title', 'status', 'orig_lang', 'budget_x', 'revenue', 'country',\n",
       "       'Number', 'Release Date', 'Budget', 'Domestic Gross',\n",
       "       'Worldwide Gross'],\n",
       "      dtype='object')"
      ]
     },
     "execution_count": 63,
     "metadata": {},
     "output_type": "execute_result"
    }
   ],
   "source": [
    "df.columns"
   ]
  },
  {
   "cell_type": "code",
   "execution_count": 64,
   "id": "50d70d41",
   "metadata": {},
   "outputs": [
    {
     "name": "stdout",
     "output_type": "stream",
     "text": [
      "['movie_name', 'score', 'genre', 'overview', 'crew', 'orig_title', 'status', 'orig_lang', 'revenue', 'country', 'number', 'release_date', 'budget', 'domestic_gross', 'worldwide_gross']\n",
      "(4098, 15)\n",
      "Remaining entries: 3632\n",
      "Remaining entries after dropping duplicates and NA: 3632\n",
      "Cleaned data saved to 'cleaned_movies_data.csv'\n"
     ]
    }
   ],
   "source": [
    "# Drop “_x” duplicate columns from the merge, e.g. budget_x, date_x, etc.\n",
    "to_drop = [c for c in df.columns if c.endswith('_x')]\n",
    "df = df.drop(columns=to_drop)\n",
    "\n",
    "# (Optional) If you also have “_y” duplicates and want to keep only one copy:\n",
    "# to_drop_y = [c for c in df.columns if c.endswith('_y')]\n",
    "# df = df.drop(columns=to_drop_y)\n",
    "\n",
    "# Rename the remaining columns for consistency\n",
    "df = df.rename(columns={\n",
    "    'Budget': 'budget',\n",
    "    'Worldwide Gross': 'worldwide_gross',\n",
    "    'Domestic Gross': 'domestic_gross',\n",
    "    'Release Date': 'release_date',\n",
    "    'Number': 'number',\n",
    "})\n",
    "\n",
    "# Sanity check\n",
    "print(df.columns.tolist())\n",
    "print(df.shape)\n",
    "\n",
    "df['budget'] = (\n",
    "    df['budget']\n",
    "    .astype(str)\n",
    "    .str.replace(r'[\\$,]', '', regex=True)\n",
    "    .astype(float)\n",
    ")\n",
    "\n",
    "# Clean the worldwide_gross column by removing dollar signs and commas\n",
    "df['worldwide_gross'] = (\n",
    "    df['worldwide_gross']\n",
    "    .astype(str)\n",
    "    .str.replace(r'[\\$,]', '', regex=True)\n",
    "    .astype(float)\n",
    ")\n",
    "\n",
    "df['domestic_gross'] = (\n",
    "    df['domestic_gross']\n",
    "    .astype(str)\n",
    "    .str.replace(r'[\\$,]', '', regex=True)\n",
    "    .astype(float)\n",
    ")\n",
    "\n",
    "# Filter out any movies with budget < $5,000,000\n",
    "df = df[df['budget'] >= 5_000_000].reset_index(drop=True)\n",
    "\n",
    "# Sanity check\n",
    "print(f\"Remaining entries: {df.shape[0]}\")\n",
    "\n",
    "# Drop duplicates and rows with missing values\n",
    "df = df.drop_duplicates().dropna()\n",
    "\n",
    "# Sanity check\n",
    "print(f\"Remaining entries after dropping duplicates and NA: {df.shape[0]}\")\n",
    "\n",
    "# Save the cleaned DataFrame to a CSV file\n",
    "df.to_csv('data/cleaned_movies_data.csv', index=False)\n",
    "\n",
    "# Sanity check to confirm the file is saved\n",
    "print(\"Cleaned data saved to 'cleaned_movies_data.csv'\")"
   ]
  },
  {
   "cell_type": "code",
   "execution_count": 65,
   "id": "bbea5bf1",
   "metadata": {},
   "outputs": [],
   "source": [
    "# Create train and test samples\n",
    "X_train, X_test, y_train, y_test = train_test_split(\n",
    "    df[['score', 'budget']], \n",
    "    df['revenue'], \n",
    "    test_size=0.20, \n",
    "    random_state=42\n",
    ")"
   ]
  },
  {
   "cell_type": "code",
   "execution_count": 66,
   "id": "c452913b",
   "metadata": {},
   "outputs": [
    {
     "name": "stdout",
     "output_type": "stream",
     "text": [
      "Train score:  0.39738958424207416\n",
      "Test score:  0.41688383441257226\n",
      "Train RMSE:  186082236.3286384\n",
      "Test RMSE:  181925340.59930444\n",
      "Train R2:  0.39738958424207416\n",
      "Test R2:  0.41688383441257226\n"
     ]
    }
   ],
   "source": [
    "from math import sqrt\n",
    "from sklearn.metrics import r2_score\n",
    "\n",
    "# train linear_model = LinearRegression()\n",
    "\n",
    "\n",
    "linear_model = LinearRegression()\n",
    "\n",
    "# Fit the model\n",
    "linear_model.fit(X_train, y_train)\n",
    "print(\"Train score: \", linear_model.score(X_train, y_train))\n",
    "print(\"Test score: \", linear_model.score(X_test, y_test))\n",
    "\n",
    "print(\"Train RMSE: \", sqrt(mean_squared_error(y_train, linear_model.predict(X_train))))\n",
    "print(\"Test RMSE: \", sqrt(mean_squared_error(y_test, linear_model.predict(X_test))))\n",
    "\n",
    "# Calculate R2 score for train and test sets\n",
    "r2_train = r2_score(y_train, linear_model.predict(X_train))\n",
    "r2_test = r2_score(y_test, linear_model.predict(X_test))\n",
    "\n",
    "print(\"Train R2: \", r2_train)\n",
    "print(\"Test R2: \", r2_test)"
   ]
  },
  {
   "cell_type": "code",
   "execution_count": 67,
   "id": "f6a97146",
   "metadata": {},
   "outputs": [
    {
     "name": "stdout",
     "output_type": "stream",
     "text": [
      "Train score:  0.7385503739969015\n",
      "Test score:  0.2982984857369665\n",
      "Train RMSE:  122568991.36425696\n",
      "Test RMSE:  199568440.1444931\n",
      "Train R2:  0.7385503739969015\n",
      "Test R2:  0.2982984857369665\n"
     ]
    }
   ],
   "source": [
    "from math import sqrt\n",
    "\n",
    "# train random_forest_model = RandomForestRegressor()\n",
    "random_forest_model = RandomForestRegressor(random_state=42)\n",
    "\n",
    "# Fit the model\n",
    "random_forest_model.fit(X_train, y_train)\n",
    "print(\"Train score: \", random_forest_model.score(X_train, y_train))\n",
    "print(\"Test score: \", random_forest_model.score(X_test, y_test))\n",
    "\n",
    "print(\"Train RMSE: \", sqrt(mean_squared_error(y_train, random_forest_model.predict(X_train))))\n",
    "print(\"Test RMSE: \", sqrt(mean_squared_error(y_test, random_forest_model.predict(X_test))))\n",
    "\n",
    "# Calculate R2 score for train and test sets\n",
    "r2_train = r2_score(y_train, random_forest_model.predict(X_train))\n",
    "r2_test = r2_score(y_test, random_forest_model.predict(X_test))\n",
    "\n",
    "print(\"Train R2: \", r2_train)\n",
    "print(\"Test R2: \", r2_test)"
   ]
  },
  {
   "cell_type": "code",
   "execution_count": 68,
   "id": "c35b6857",
   "metadata": {},
   "outputs": [
    {
     "name": "stdout",
     "output_type": "stream",
     "text": [
      "['budget' 'score']\n",
      "[0.69434523 0.30565477]\n"
     ]
    },
    {
     "data": {
      "text/plain": [
       "<Axes: ylabel='features'>"
      ]
     },
     "execution_count": 68,
     "metadata": {},
     "output_type": "execute_result"
    },
    {
     "data": {
      "image/png": "[encoded data removed]",
      "text/plain": [
       "<Figure size 600x300 with 1 Axes>"
      ]
     },
     "metadata": {},
     "output_type": "display_data"
    }
   ],
   "source": [
    "cols = random_forest_model.feature_names_in_\n",
    "\n",
    "# Derive feature importance from random forest\n",
    "importances = random_forest_model.feature_importances_\n",
    "std         = np.std([tree.feature_importances_ for tree in random_forest_model.estimators_], axis=0)\n",
    "indices     = np.argsort(importances)[::-1]\n",
    "\n",
    "# Print col-names and importances-values\n",
    "print( cols[indices] )\n",
    "print( importances[indices] )\n",
    "\n",
    "# Barplot with feature importance\n",
    "df_fi = pd.DataFrame({'features':cols,'importances': importances})\n",
    "df_fi.sort_values('importances', inplace=True)\n",
    "df_fi.plot(kind='barh', \n",
    "           y='importances',\n",
    "           x='features', \n",
    "           color='darkred', \n",
    "           figsize=(6,3))"
   ]
  },
  {
   "cell_type": "markdown",
   "id": "65915d3a",
   "metadata": {},
   "source": [
    "### Train/Test splitting"
   ]
  },
  {
   "cell_type": "markdown",
   "id": "03e988ad",
   "metadata": {},
   "source": [
    "# Create New Fetures"
   ]
  },
  {
   "cell_type": "code",
   "execution_count": 69,
   "id": "6212b5bd",
   "metadata": {},
   "outputs": [
    {
     "name": "stdout",
     "output_type": "stream",
     "text": [
      "Country mapping: {'AT': 1, 'AU': 2, 'BR': 3, 'CA': 4, 'CN': 5, 'DE': 6, 'ES': 7, 'FR': 8, 'GB': 9, 'HK': 10, 'ID': 11, 'IE': 12, 'IN': 13, 'IT': 14, 'JP': 15, 'KR': 16, 'MX': 17, 'NL': 18, 'RU': 19, 'SU': 20, 'TH': 21, 'TR': 22, 'US': 23, 'ZA': 24}\n",
      "   country_code\n",
      "0             2\n",
      "1             2\n",
      "2             2\n",
      "3             2\n",
      "4             2\n"
     ]
    }
   ],
   "source": [
    "# 1. Build mapping dicts (you can inspect these to see which code goes to which category)\n",
    "country_mapping = {country: idx+1 \n",
    "                   for idx, country in enumerate(sorted(df['country'].unique()))}\n",
    "\n",
    "\n",
    "# 2. Apply them\n",
    "df['country_code'] = df['country'].map(country_mapping)\n",
    "\n",
    "\n",
    "# 3. (Optional) Drop the originals if you don’t need them anymore\n",
    "df = df.drop(columns=['country'])\n",
    "\n",
    "# 4. Inspect\n",
    "print(\"Country mapping:\", country_mapping)\n",
    "print(df[['country_code']].head())\n",
    "df['crew_count'] = df['crew'].str.count(r'\\|') + 1\n"
   ]
  },
  {
   "cell_type": "code",
   "execution_count": 70,
   "id": "43379f48",
   "metadata": {},
   "outputs": [
    {
     "name": "stdout",
     "output_type": "stream",
     "text": [
      "Sample genre_code_sum values:\n",
      "                     movie_name  genre_code_sum  genre_code\n",
      "0                     creed iii               8           0\n",
      "1      avatar: the way of water              18           0\n",
      "2   the super mario bros. movie              26           0\n",
      "3          john wick: chapter 4              23           0\n",
      "4  puss in boots: the last wish              26           0\n",
      "\n",
      "Genre mapping (first 10 entries):\n",
      "'Action': 1\n",
      "'Adventure': 2\n",
      "'Animation': 3\n",
      "'Comedy': 4\n",
      "'Crime': 5\n",
      "'Documentary': 6\n",
      "'Drama': 7\n",
      "'Family': 8\n",
      "'Fantasy': 9\n",
      "'History': 10\n"
     ]
    }
   ],
   "source": [
    "# 1. Split genre names into lists (assuming genres are separated by commas or |)\n",
    "df['genre_list'] = (\n",
    "    df['genre']\n",
    "    .fillna('')  # replace NaN with empty string\n",
    "    .apply(lambda x: [genre.strip() for genre in x.split(',') if genre.strip()])\n",
    ")\n",
    "\n",
    "# 2. Build a mapping of each unique genre to a unique integer\n",
    "unique_genres = sorted({genre for sublist in df['genre_list'] for genre in sublist})\n",
    "genre_mapping = {genre: idx + 1 for idx, genre in enumerate(unique_genres)}\n",
    "\n",
    "# 3. Create the summed feature\n",
    "df['genre_code_sum'] = df['genre_list'] \\\n",
    "    .apply(lambda genres: sum(genre_mapping[genre] for genre in genres))\n",
    "\n",
    "# 4. Keep the original single genre code for backward compatibility\n",
    "df['genre_code'] = df['genre'].map({genre: genre_mapping.get(genre, 0) for genre in df['genre'].unique()})\n",
    "\n",
    "# 5. Drop the original genre column\n",
    "df = df.drop(columns=['genre'])\n",
    "\n",
    "# 6. Inspect\n",
    "print(\"Sample genre_code_sum values:\")\n",
    "print(df[['movie_name', 'genre_code_sum', 'genre_code']].head())\n",
    "\n",
    "print(\"\\nGenre mapping (first 10 entries):\")\n",
    "for genre, code in list(genre_mapping.items())[:10]:\n",
    "    print(f\"{genre!r}: {code}\")\n",
    "\n",
    "df['crew_count'] = df['crew'].str.count(r'\\|') + 1"
   ]
  },
  {
   "cell_type": "code",
   "execution_count": 71,
   "id": "6fa940d1",
   "metadata": {},
   "outputs": [
    {
     "name": "stdout",
     "output_type": "stream",
     "text": [
      "(3632, 18)\n",
      "Columns: ['movie_name', 'score', 'overview', 'crew', 'orig_title', 'status', 'orig_lang', 'revenue', 'number', 'release_date', 'budget', 'domestic_gross', 'worldwide_gross', 'country_code', 'crew_count', 'genre_list', 'genre_code_sum', 'genre_code']\n"
     ]
    }
   ],
   "source": [
    "# 1. Drop columns with duplicate names (keep first occurrence)\n",
    "df = df.loc[:, ~df.columns.duplicated()]\n",
    "\n",
    "\n",
    "# Sanity check\n",
    "print(df.shape)\n",
    "print(\"Columns:\", df.columns.tolist())\n"
   ]
  },
  {
   "cell_type": "code",
   "execution_count": 72,
   "id": "02ad5e26",
   "metadata": {},
   "outputs": [],
   "source": [
    "# Create train and test samples\n",
    "X_train, X_test, y_train, y_test = train_test_split(\n",
    "    df[['score', 'budget', 'country_code', 'genre_code', 'crew_count', 'genre_code_sum']], \n",
    "    df['revenue'], \n",
    "    test_size=0.20, \n",
    "    random_state=42\n",
    ")"
   ]
  },
  {
   "cell_type": "code",
   "execution_count": 73,
   "id": "3ba3f2a0",
   "metadata": {},
   "outputs": [],
   "source": [
    "def model_performance(features, df, random_forest_model = RandomForestRegressor(random_state=42)):\n",
    "    df = df.sample(frac=1, random_state=42)\n",
    "    X, y = df[features], df['revenue']\n",
    "    scores = cross_val_score(random_forest_model, X, y, scoring=\"neg_root_mean_squared_error\", cv=5)\n",
    "    print('CV results RMSE:', np.round(scores))\n",
    "    print('Mean RMSE:', np.mean(np.round(scores, 0)))"
   ]
  },
  {
   "cell_type": "code",
   "execution_count": 74,
   "id": "529e17f8",
   "metadata": {},
   "outputs": [
    {
     "name": "stdout",
     "output_type": "stream",
     "text": [
      "CV results RMSE: [-1.88193740e+08 -1.77207870e+08 -2.15692246e+08 -1.96685836e+08\n",
      " -2.25094226e+08]\n",
      "Mean RMSE: -200574783.6\n"
     ]
    }
   ],
   "source": [
    "features = ['score', 'budget', 'country_code', 'genre_code', 'crew_count', 'genre_code_sum']\n",
    "model_performance(features, df)"
   ]
  },
  {
   "cell_type": "code",
   "execution_count": 75,
   "id": "d92bda2b",
   "metadata": {},
   "outputs": [],
   "source": [
    "def model_performance_linear(features, df, linear_model=LinearRegression()):\n",
    "    df = df.sample(frac=1, random_state=42)\n",
    "    X = df[features]  # Define X using the provided features\n",
    "    y = df['revenue']  # Define y as the target variable\n",
    "    scores = cross_val_score(linear_model, X, y, scoring=\"neg_root_mean_squared_error\", cv=5)\n",
    "    print('CV results RMSE:', np.round(scores))\n",
    "    print('Mean RMSE:', np.mean(np.round(scores, 0)))"
   ]
  },
  {
   "cell_type": "code",
   "execution_count": 76,
   "id": "9396cdae",
   "metadata": {},
   "outputs": [
    {
     "name": "stdout",
     "output_type": "stream",
     "text": [
      "CV results RMSE: [-1.82333860e+08 -1.68369391e+08 -1.93342525e+08 -1.69357713e+08\n",
      " -2.13381206e+08]\n",
      "Mean RMSE: -185356939.0\n"
     ]
    }
   ],
   "source": [
    "features = ['score', 'budget', 'country_code', 'genre_code', 'crew_count', 'genre_code_sum']\n",
    "model_performance_linear(features, df)"
   ]
  },
  {
   "cell_type": "markdown",
   "id": "94a1c0e4",
   "metadata": {},
   "source": [
    "# Feature Engineering"
   ]
  },
  {
   "cell_type": "code",
   "execution_count": 77,
   "id": "0a6ee839",
   "metadata": {},
   "outputs": [
    {
     "name": "stdout",
     "output_type": "stream",
     "text": [
      "   overview_word_count  title_word_count\n",
      "0                   82                 2\n",
      "1                   50                 5\n",
      "2                   41                 5\n",
      "3                   47                 4\n",
      "4                   47                 6\n"
     ]
    }
   ],
   "source": [
    "# Count number of words in the movie overview as a new feature\n",
    "df['overview_word_count'] = (\n",
    "    df['overview']\n",
    "    .fillna('')              # handle NaNs\n",
    "    .str.split()             # split on whitespace\n",
    "    .str.len()               # count number of tokens\n",
    ")\n",
    "\n",
    "# (Optional) If you also want the title word count:\n",
    "df['title_word_count'] = (\n",
    "    df['movie_name']\n",
    "    .fillna('')\n",
    "    .str.split()\n",
    "    .str.len()\n",
    ")\n",
    "\n",
    "# Sanity check\n",
    "print(df[['overview_word_count', 'title_word_count']].head())\n"
   ]
  },
  {
   "cell_type": "code",
   "execution_count": 78,
   "id": "3058bd44",
   "metadata": {},
   "outputs": [
    {
     "name": "stdout",
     "output_type": "stream",
     "text": [
      "Sample crew_code_sum values:\n",
      "                     movie_name  crew_code_sum\n",
      "0                     creed iii         339963\n",
      "1      avatar: the way of water         361986\n",
      "2   the super mario bros. movie         300490\n",
      "3          john wick: chapter 4         300929\n",
      "4  puss in boots: the last wish         365662\n",
      "\n",
      "Crew mapping (first 10 entries):\n",
      "'\"Baby-O\" O\\'Dell': 1\n",
      "'\"Badge of Honor\" Star Brett Chase': 2\n",
      "'\"German\"': 3\n",
      "'\"Hollywood Dick\" Moltisanti / Salvatore “Sally” Moltisanti': 4\n",
      "'\"Howling Mad\" Murdock': 5\n",
      "'\"La Boeuf\"': 6\n",
      "'\"Little Alice\" Eklund': 7\n",
      "'\"Lucky\" Ned Pepper': 8\n",
      "'\"Matron\"': 9\n",
      "'\"Moon\"': 10\n"
     ]
    }
   ],
   "source": [
    "# 1. Split crew names into lists\n",
    "df['crew_list'] = (\n",
    "    df['crew']\n",
    "    .fillna('')  # replace NaN with empty string\n",
    "    .apply(lambda x: [name.strip() for name in x.split(',') if name.strip()])\n",
    ")\n",
    "\n",
    "# 2. Build a mapping of each unique crew member to a unique integer\n",
    "unique_crew = sorted({member for sublist in df['crew_list'] for member in sublist})\n",
    "crew_mapping = {name: idx + 1 for idx, name in enumerate(unique_crew)}\n",
    "\n",
    "# 3. Create the summed feature\n",
    "df['crew_code_sum'] = df['crew_list'] \\\n",
    "    .apply(lambda crew: sum(crew_mapping[name] for name in crew))\n",
    "\n",
    "# 5. Inspect\n",
    "print(\"Sample crew_code_sum values:\")\n",
    "print(df[['movie_name', 'crew_code_sum']].head())\n",
    "\n",
    "print(\"\\nCrew mapping (first 10 entries):\")\n",
    "for name, code in list(crew_mapping.items())[:10]:\n",
    "    print(f\"{name!r}: {code}\")\n"
   ]
  },
  {
   "cell_type": "code",
   "execution_count": 79,
   "id": "c9318f23",
   "metadata": {},
   "outputs": [
    {
     "name": "stdout",
     "output_type": "stream",
     "text": [
      "  release_date  release_date_int\n",
      "0   2023-03-01          20230301\n",
      "1   2022-12-09          20221209\n",
      "2   2023-04-04          20230404\n",
      "3   2023-03-22          20230322\n",
      "4   2022-12-02          20221202\n"
     ]
    }
   ],
   "source": [
    "# 1. Ensure 'release_date' is datetime\n",
    "df['release_date'] = pd.to_datetime(df['release_date'], errors='coerce')\n",
    "\n",
    "# 2a. Simple integer encoding: YYYYMMDD\n",
    "# Handle NaT values by filling them with a default date (e.g., 1970-01-01) before conversion\n",
    "df['release_date_int'] = (\n",
    "    df['release_date']\n",
    "    .fillna(pd.Timestamp('1970-01-01'))  # Replace NaT with a default date\n",
    "    .dt.strftime('%Y%m%d')  # e.g., \"20230521\"\n",
    "    .astype(int)\n",
    ")\n",
    "\n",
    "# Sanity check\n",
    "print(df[['release_date', 'release_date_int']].head())\n"
   ]
  },
  {
   "cell_type": "code",
   "execution_count": 80,
   "id": "489935ee",
   "metadata": {},
   "outputs": [
    {
     "name": "stdout",
     "output_type": "stream",
     "text": [
      "Columns: ['movie_name', 'score', 'overview', 'crew', 'orig_title', 'status', 'orig_lang', 'revenue', 'number', 'release_date', 'budget', 'domestic_gross', 'worldwide_gross', 'country_code', 'crew_count', 'genre_list', 'genre_code_sum', 'genre_code', 'overview_word_count', 'title_word_count', 'crew_list', 'crew_code_sum', 'release_date_int']\n"
     ]
    }
   ],
   "source": [
    "print(\"Columns:\", df.columns.tolist())\n"
   ]
  },
  {
   "cell_type": "code",
   "execution_count": 81,
   "id": "ce5e31ea",
   "metadata": {},
   "outputs": [
    {
     "name": "stdout",
     "output_type": "stream",
     "text": [
      "CV results RMSE: [-1.98196309e+08 -1.73883668e+08 -1.99468472e+08 -1.83065526e+08\n",
      " -2.29953746e+08]\n",
      "Mean RMSE: -196913544.2\n",
      "CV results RMSE: [-1.85480474e+08 -1.70269051e+08 -1.95373444e+08 -1.71915086e+08\n",
      " -2.18124159e+08]\n",
      "Mean RMSE: -188232442.8\n"
     ]
    }
   ],
   "source": [
    "features = ['budget','country_code', 'genre_code', 'crew_count', 'overview_word_count', 'title_word_count', 'crew_code_sum', 'release_date_int', 'genre_code_sum']\n",
    "model_performance(features, df)\n",
    "model_performance_linear(features, df)"
   ]
  },
  {
   "cell_type": "code",
   "execution_count": 82,
   "id": "8ff0dde1",
   "metadata": {},
   "outputs": [
    {
     "name": "stdout",
     "output_type": "stream",
     "text": [
      "               Model    Train RMSE     Test RMSE  Train R²   Test R²\n",
      "0      Random Forest  8.821781e+07  1.881937e+08  0.864562  0.376008\n",
      "1  Linear Regression  1.856693e+08  1.823339e+08  0.400061  0.414262\n"
     ]
    }
   ],
   "source": [
    "# Berechnung der Ergebnisse für Random Forest\n",
    "random_forest_model.fit(X_train, y_train)\n",
    "rf_rmse_train = sqrt(mean_squared_error(y_train, random_forest_model.predict(X_train)))\n",
    "rf_rmse_test = sqrt(mean_squared_error(y_test, random_forest_model.predict(X_test)))\n",
    "rf_r2_train = random_forest_model.score(X_train, y_train)\n",
    "rf_r2_test = random_forest_model.score(X_test, y_test)\n",
    "\n",
    "# Berechnung der Ergebnisse für Lineare Regression\n",
    "linear_model.fit(X_train, y_train)\n",
    "lr_rmse_train = sqrt(mean_squared_error(y_train, linear_model.predict(X_train)))\n",
    "lr_rmse_test = sqrt(mean_squared_error(y_test, linear_model.predict(X_test)))\n",
    "lr_r2_train = linear_model.score(X_train, y_train)\n",
    "lr_r2_test = linear_model.score(X_test, y_test)\n",
    "\n",
    "# Ergebnisse in einer Tabelle zusammenfassen\n",
    "results = pd.DataFrame({\n",
    "    'Model': ['Random Forest', 'Linear Regression'],\n",
    "    'Train RMSE': [rf_rmse_train, lr_rmse_train],\n",
    "    'Test RMSE': [rf_rmse_test, lr_rmse_test],\n",
    "    'Train R²': [rf_r2_train, lr_r2_train],\n",
    "    'Test R²': [rf_r2_test, lr_r2_test]\n",
    "})\n",
    "\n",
    "# Tabelle anzeigen\n",
    "print(results)"
   ]
  },
  {
   "cell_type": "markdown",
   "id": "5e4b25dc",
   "metadata": {},
   "source": [
    " Die lineare Regression zeigt zwar eine etwas bessere Performance auf den Testdaten (Test R² = 0.42) als der Random Forest (Test R² = 0.8), allerdings ist der Unterschied gering (0.04). Beim Training der Daten erzielt der Random Forest jedoch ein deutlich besseres Ergebnis (Train R² = 0.87) im Vergleich zur linearen Regression (Train R² = 0.40). Dies deutet darauf hin, dass der Random Forest das Training besser abbildet, aber möglicherweise stärker zum Overfitting neigt. Aufgrund dieser Tatsache wird absofort nur noch mit dem Random Forest weiter gearbeitet. "
   ]
  },
  {
   "cell_type": "code",
   "execution_count": 83,
   "id": "ce5c159a",
   "metadata": {},
   "outputs": [
    {
     "data": {
      "text/plain": [
       "<Axes: ylabel='features'>"
      ]
     },
     "execution_count": 83,
     "metadata": {},
     "output_type": "execute_result"
    },
    {
     "data": {
      "image/png": "[encoded data removed]",
      "text/plain": [
       "<Figure size 640x480 with 1 Axes>"
      ]
     },
     "metadata": {},
     "output_type": "display_data"
    }
   ],
   "source": [
    "# train random_forest_model = RandomForestRegressor()\n",
    "random_forest_model = RandomForestRegressor(random_state=42)\n",
    "\n",
    "# Fit the model\n",
    "random_forest_model.fit(df[features], df.revenue)\n",
    "\n",
    "cols = random_forest_model.feature_names_in_\n",
    "\n",
    "# Derive feature importance from random forest\n",
    "importances = random_forest_model.feature_importances_\n",
    "std         = np.std([tree.feature_importances_ for tree in random_forest_model.estimators_], axis=0)\n",
    "indices     = np.argsort(importances)[::-1]\n",
    "\n",
    "# Barplot with feature importance\n",
    "df_fi = pd.DataFrame({'features':cols,'importances': importances})\n",
    "df_fi.sort_values('importances', inplace=True)\n",
    "df_fi.plot(kind='barh', \n",
    "           y='importances',\n",
    "           x='features', \n",
    "           color='darkred')"
   ]
  },
  {
   "cell_type": "markdown",
   "id": "bf0ab377",
   "metadata": {},
   "source": [
    "# Clean the Data Again and Another Feature engeneering part "
   ]
  },
  {
   "cell_type": "code",
   "execution_count": 84,
   "id": "ff401814",
   "metadata": {},
   "outputs": [
    {
     "name": "stdout",
     "output_type": "stream",
     "text": [
      "Total movies before data cleaning: 3632\n",
      "Total movies after data cleaning: 3309\n"
     ]
    }
   ],
   "source": [
    "print('Total movies before data cleaning:', len(df))\n",
    "\n",
    "# Remove missing values\n",
    "df = df.dropna()\n",
    "\n",
    "# Remove movies with a budget under 5 million\n",
    "df = df[df['budget'] >= 10000000]\n",
    "\n",
    "print('Total movies after data cleaning:', len(df))"
   ]
  },
  {
   "cell_type": "code",
   "execution_count": 85,
   "id": "5ada4644",
   "metadata": {},
   "outputs": [],
   "source": [
    "df['budget_crew'] = df['budget'] / df['crew_code_sum']"
   ]
  },
  {
   "cell_type": "code",
   "execution_count": 86,
   "id": "5f0cc4c5",
   "metadata": {},
   "outputs": [
    {
     "name": "stdout",
     "output_type": "stream",
     "text": [
      "  imdb_title_id                      title              original_title  year  \\\n",
      "0     tt0035423             Kate & Leopold              Kate & Leopold  2001   \n",
      "1     tt0118589                    Glitter                     Glitter  2001   \n",
      "2     tt0118694       In the Mood for Love            Fa yeung nin wah  2000   \n",
      "3     tt0120202         Hollywood, Vermont              State and Main  2000   \n",
      "4     tt0120263  Canzoni del secondo piano  Sånger från andra våningen  2000   \n",
      "\n",
      "  date_published                     genre  duration                  country  \\\n",
      "0     01/03/2002  Comedy, Fantasy, Romance       118                      USA   \n",
      "1     30/11/2001     Drama, Music, Romance       104                      USA   \n",
      "2     27/10/2000            Drama, Romance        98         Hong Kong, China   \n",
      "3     31/05/2002             Comedy, Drama       105              France, USA   \n",
      "4     06/10/2000             Comedy, Drama        98  Sweden, Norway, Denmark   \n",
      "\n",
      "  language_1    language_2  ...         actors_1  \\\n",
      "0    English        French  ...         Meg Ryan   \n",
      "1    English           NaN  ...     Mariah Carey   \n",
      "2  Cantonese  Shanghainese  ...    Maggie Cheung   \n",
      "3    English       Italian  ...  Michael Higgins   \n",
      "4    Swedish       Russian  ...       Lars Nordh   \n",
      "\n",
      "                            actors_f2  \\\n",
      "0              Meg Ryan, Hugh Jackman   \n",
      "1           Mariah Carey, Max Beesley   \n",
      "2  Maggie Cheung, Tony Chiu-Wai Leung   \n",
      "3   Michael Higgins, Michael Bradshaw   \n",
      "4          Lars Nordh, Stefan Larsson   \n",
      "\n",
      "                                         description  \\\n",
      "0  An English Duke from 1876 is inadvertedly drag...   \n",
      "1  A young singer dates a disc jockey who helps h...   \n",
      "2  Two neighbors, a woman and a man, form a stron...   \n",
      "3  A movie crew invades a small town whose reside...   \n",
      "4  Where are we humans going? A film poem inspire...   \n",
      "\n",
      "                                      desc35 avg_vote   votes    budget  \\\n",
      "0  An English Duke from 1876 is inadvertedly      6.4   77852  48000000   \n",
      "1         A young singer dates a disc jockey      2.2   21298  22000000   \n",
      "2          Two neighbors, a woman and a man,      8.1  119171       NaN   \n",
      "3          A movie crew invades a small town      6.7   20220       NaN   \n",
      "4          Where are we humans going? A film      7.6   17188       NaN   \n",
      "\n",
      "  usa_gross_income  worlwide_gross_income  reviews_from_users  \n",
      "0       47121859.0               76019048               341.0  \n",
      "1        4274407.0                5271666               319.0  \n",
      "2        2738980.0               12854953               422.0  \n",
      "3        6944471.0                9206279               175.0  \n",
      "4          80334.0                  80334               110.0  \n",
      "\n",
      "[5 rows x 24 columns]\n"
     ]
    }
   ],
   "source": [
    "# Load the IMDb movies data for 2000-2020\n",
    "imdb_2000_2020 = pd.read_csv('data/imdb_movies_2000_-_2020.csv')\n",
    "print(imdb_2000_2020.head())"
   ]
  },
  {
   "cell_type": "code",
   "execution_count": 87,
   "id": "e884bef9",
   "metadata": {},
   "outputs": [
    {
     "name": "stdout",
     "output_type": "stream",
     "text": [
      "                     movie_name  duration\n",
      "0                     creed iii       NaN\n",
      "1      avatar: the way of water       NaN\n",
      "2   the super mario bros. movie       NaN\n",
      "3          john wick: chapter 4       NaN\n",
      "4  puss in boots: the last wish       NaN\n",
      "Number of movies after dropping NA: 1064\n"
     ]
    }
   ],
   "source": [
    "# Normalize titles for merging\n",
    "df['movie_name_lower'] = df['movie_name'].str.lower().str.strip()\n",
    "imdb_2000_2020['title_lower'] = imdb_2000_2020['title'].str.lower().str.strip()\n",
    "\n",
    "# Drop existing duration columns to avoid duplicate column errors\n",
    "for col in ['duration_x', 'duration_y', 'duration']:\n",
    "    if col in df.columns:\n",
    "        df = df.drop(columns=[col])\n",
    "\n",
    "# Merge duration from imdb_2000_2020 into df\n",
    "df = pd.merge(\n",
    "    df,\n",
    "    imdb_2000_2020[['title_lower', 'duration']],\n",
    "    left_on='movie_name_lower',\n",
    "    right_on='title_lower',\n",
    "    how='left'\n",
    ")\n",
    "\n",
    "# Drop helper columns\n",
    "df = df.drop(columns=['movie_name_lower', 'title_lower'])\n",
    "\n",
    "# Sanity check\n",
    "print(df[['movie_name', 'duration']].head())\n",
    "\n",
    "# Drop rows with missing values after merging duration\n",
    "df = df.dropna()\n",
    "\n",
    "# Show the number of remaining datasets\n",
    "print(\"Number of movies after dropping NA:\", len(df))"
   ]
  },
  {
   "cell_type": "code",
   "execution_count": 88,
   "id": "f741be1e",
   "metadata": {},
   "outputs": [
    {
     "name": "stdout",
     "output_type": "stream",
     "text": [
      "CV results RMSE: [-2.42192539e+08 -2.75373490e+08 -2.14207202e+08 -2.16211285e+08\n",
      " -2.34731968e+08]\n",
      "Mean RMSE: -236543296.8\n",
      "R2 (all data): 0.8156162456935635\n",
      "R2 (train split): 0.817948885014275\n",
      "R2 (test split): 0.48481567250179947\n"
     ]
    }
   ],
   "source": [
    "features = ['budget', 'genre_code', 'overview_word_count', 'crew_code_sum', 'release_date_int', 'budget_crew', 'duration', 'genre_code_sum']\n",
    "model_performance(features, df)\n",
    "# Train a RandomForestRegressor on the selected features\n",
    "rf = RandomForestRegressor(random_state=42)\n",
    "rf.fit(df[features], df['revenue'])\n",
    "\n",
    "# Calculate R2 for train and test sets\n",
    "y_pred_train = rf.predict(df[features])\n",
    "r2_train = rf.score(df[features], df['revenue'])\n",
    "\n",
    "# If you want to use the original train/test split:\n",
    "X = df[features]\n",
    "y = df['revenue']\n",
    "X_train_rf, X_test_rf, y_train_rf, y_test_rf = train_test_split(X, y, test_size=0.20, random_state=42)\n",
    "rf.fit(X_train_rf, y_train_rf)\n",
    "r2_train_split = rf.score(X_train_rf, y_train_rf)\n",
    "r2_test_split = rf.score(X_test_rf, y_test_rf)\n",
    "\n",
    "print(\"R2 (all data):\", r2_train)\n",
    "print(\"R2 (train split):\", r2_train_split)\n",
    "print(\"R2 (test split):\", r2_test_split)"
   ]
  },
  {
   "cell_type": "code",
   "execution_count": 89,
   "id": "23d4377d",
   "metadata": {},
   "outputs": [
    {
     "name": "stdout",
     "output_type": "stream",
     "text": [
      "CV results RMSE: [-2.29412300e+08 -2.75238287e+08 -2.18769214e+08 -2.14029382e+08\n",
      " -2.29713645e+08]\n",
      "Mean RMSE: -233432565.6\n",
      "R2 (all data): 0.8204125162681449\n",
      "R2 (train split): 0.8233449208024997\n",
      "R2 (test split): 0.5377525552689364\n"
     ]
    }
   ],
   "source": [
    "features = ['budget', 'release_date_int', 'budget_crew', 'duration']\n",
    "model_performance(features, df)\n",
    "# Train a RandomForestRegressor on the selected features\n",
    "rf = RandomForestRegressor(random_state=42)\n",
    "rf.fit(df[features], df['revenue'])\n",
    "\n",
    "# Calculate R2 for train and test sets\n",
    "y_pred_train = rf.predict(df[features])\n",
    "r2_train = rf.score(df[features], df['revenue'])\n",
    "\n",
    "# If you want to use the original train/test split:\n",
    "X = df[features]\n",
    "y = df['revenue']\n",
    "X_train_rf, X_test_rf, y_train_rf, y_test_rf = train_test_split(X, y, test_size=0.20, random_state=42)\n",
    "rf.fit(X_train_rf, y_train_rf)\n",
    "r2_train_split = rf.score(X_train_rf, y_train_rf)\n",
    "r2_test_split = rf.score(X_test_rf, y_test_rf)\n",
    "\n",
    "print(\"R2 (all data):\", r2_train)\n",
    "print(\"R2 (train split):\", r2_train_split)\n",
    "print(\"R2 (test split):\", r2_test_split)"
   ]
  },
  {
   "cell_type": "code",
   "execution_count": 90,
   "id": "02d38541",
   "metadata": {},
   "outputs": [
    {
     "name": "stdout",
     "output_type": "stream",
     "text": [
      "         budget  duration  budget_per_minute\n",
      "19  237000000.0     162.0       1.462963e+06\n",
      "22   30000000.0     101.0       2.970297e+05\n",
      "29   85000000.0     132.0       6.439394e+05\n",
      "45  300000000.0     149.0       2.013423e+06\n",
      "62   50000000.0     130.0       3.846154e+05\n"
     ]
    }
   ],
   "source": [
    "df['budget_per_minute'] = df['budget'] / df['duration']\n",
    "print(df[['budget', 'duration', 'budget_per_minute']].head())"
   ]
  },
  {
   "cell_type": "code",
   "execution_count": 91,
   "id": "e739c1a5",
   "metadata": {},
   "outputs": [
    {
     "name": "stdout",
     "output_type": "stream",
     "text": [
      "CV results RMSE: [-2.24713043e+08 -2.74493492e+08 -2.17173702e+08 -2.21267520e+08\n",
      " -2.35682481e+08]\n",
      "Mean RMSE: -234666047.6\n",
      "R2 (all data): 0.8202060684867006\n",
      "R2 (train split): 0.8195651135302114\n",
      "R2 (test split): 0.556495853789306\n"
     ]
    }
   ],
   "source": [
    "features = ['budget', 'release_date_int', 'budget_crew', 'duration', 'budget_per_minute']\n",
    "model_performance(features, df)\n",
    "# Train a RandomForestRegressor on the selected features\n",
    "rf = RandomForestRegressor(random_state=42)\n",
    "rf.fit(df[features], df['revenue'])\n",
    "\n",
    "# Calculate R2 for train and test sets\n",
    "y_pred_train = rf.predict(df[features])\n",
    "r2_train = rf.score(df[features], df['revenue'])\n",
    "\n",
    "# If you want to use the original train/test split:\n",
    "X = df[features]\n",
    "y = df['revenue']\n",
    "X_train_rf, X_test_rf, y_train_rf, y_test_rf = train_test_split(X, y, test_size=0.20, random_state=42)\n",
    "rf.fit(X_train_rf, y_train_rf)\n",
    "r2_train_split = rf.score(X_train_rf, y_train_rf)\n",
    "r2_test_split = rf.score(X_test_rf, y_test_rf)\n",
    "\n",
    "print(\"R2 (all data):\", r2_train)\n",
    "print(\"R2 (train split):\", r2_train_split)\n",
    "print(\"R2 (test split):\", r2_test_split)"
   ]
  },
  {
   "cell_type": "markdown",
   "id": "3c8689f2",
   "metadata": {},
   "source": [
    "# Find the best Parameters"
   ]
  },
  {
   "cell_type": "code",
   "execution_count": 92,
   "id": "9a1be342",
   "metadata": {},
   "outputs": [
    {
     "name": "stdout",
     "output_type": "stream",
     "text": [
      "Fitting 5 folds for each of 10 candidates, totalling 50 fits\n",
      "[CV] END max_depth=100, max_features=6, min_samples_leaf=4, min_samples_split=10, n_estimators=1000; total time=   5.1s\n",
      "[CV] END max_depth=100, max_features=6, min_samples_leaf=4, min_samples_split=10, n_estimators=1000; total time=   5.0s\n",
      "[CV] END max_depth=100, max_features=6, min_samples_leaf=4, min_samples_split=10, n_estimators=1000; total time=   5.1s\n",
      "[CV] END max_depth=100, max_features=6, min_samples_leaf=4, min_samples_split=10, n_estimators=1000; total time=   5.1s\n",
      "[CV] END max_depth=100, max_features=6, min_samples_leaf=4, min_samples_split=10, n_estimators=1000; total time=   5.0s\n",
      "[CV] END max_depth=100, max_features=6, min_samples_leaf=4, min_samples_split=12, n_estimators=100; total time=   0.4s\n",
      "[CV] END max_depth=100, max_features=6, min_samples_leaf=4, min_samples_split=12, n_estimators=100; total time=   0.4s\n",
      "[CV] END max_depth=100, max_features=6, min_samples_leaf=4, min_samples_split=12, n_estimators=100; total time=   0.4s\n",
      "[CV] END max_depth=100, max_features=6, min_samples_leaf=4, min_samples_split=12, n_estimators=100; total time=   0.3s\n",
      "[CV] END max_depth=100, max_features=6, min_samples_leaf=4, min_samples_split=12, n_estimators=100; total time=   0.4s\n",
      "[CV] END max_depth=110, max_features=6, min_samples_leaf=4, min_samples_split=10, n_estimators=100; total time=   0.4s\n",
      "[CV] END max_depth=110, max_features=6, min_samples_leaf=4, min_samples_split=10, n_estimators=100; total time=   0.4s\n",
      "[CV] END max_depth=110, max_features=6, min_samples_leaf=4, min_samples_split=10, n_estimators=100; total time=   0.4s\n",
      "[CV] END max_depth=110, max_features=6, min_samples_leaf=4, min_samples_split=10, n_estimators=100; total time=   0.4s\n",
      "[CV] END max_depth=110, max_features=6, min_samples_leaf=4, min_samples_split=10, n_estimators=100; total time=   0.4s\n",
      "[CV] END max_depth=90, max_features=9, min_samples_leaf=5, min_samples_split=12, n_estimators=500; total time=   2.3s\n",
      "[CV] END max_depth=90, max_features=9, min_samples_leaf=5, min_samples_split=12, n_estimators=500; total time=   2.4s\n",
      "[CV] END max_depth=90, max_features=9, min_samples_leaf=5, min_samples_split=12, n_estimators=500; total time=   2.2s\n",
      "[CV] END max_depth=90, max_features=9, min_samples_leaf=5, min_samples_split=12, n_estimators=500; total time=   2.2s\n",
      "[CV] END max_depth=90, max_features=9, min_samples_leaf=5, min_samples_split=12, n_estimators=500; total time=   2.1s\n",
      "[CV] END max_depth=100, max_features=6, min_samples_leaf=5, min_samples_split=10, n_estimators=100; total time=   0.4s\n",
      "[CV] END max_depth=100, max_features=6, min_samples_leaf=5, min_samples_split=10, n_estimators=100; total time=   0.4s\n",
      "[CV] END max_depth=100, max_features=6, min_samples_leaf=5, min_samples_split=10, n_estimators=100; total time=   0.4s\n",
      "[CV] END max_depth=100, max_features=6, min_samples_leaf=5, min_samples_split=10, n_estimators=100; total time=   0.4s\n",
      "[CV] END max_depth=100, max_features=6, min_samples_leaf=5, min_samples_split=10, n_estimators=100; total time=   0.3s\n",
      "[CV] END max_depth=110, max_features=6, min_samples_leaf=4, min_samples_split=12, n_estimators=100; total time=   0.4s\n",
      "[CV] END max_depth=110, max_features=6, min_samples_leaf=4, min_samples_split=12, n_estimators=100; total time=   0.4s\n",
      "[CV] END max_depth=110, max_features=6, min_samples_leaf=4, min_samples_split=12, n_estimators=100; total time=   0.4s\n",
      "[CV] END max_depth=110, max_features=6, min_samples_leaf=4, min_samples_split=12, n_estimators=100; total time=   0.4s\n",
      "[CV] END max_depth=110, max_features=6, min_samples_leaf=4, min_samples_split=12, n_estimators=100; total time=   0.4s\n",
      "[CV] END max_depth=90, max_features=6, min_samples_leaf=5, min_samples_split=10, n_estimators=500; total time=   2.3s\n",
      "[CV] END max_depth=90, max_features=6, min_samples_leaf=5, min_samples_split=10, n_estimators=500; total time=   2.3s\n",
      "[CV] END max_depth=90, max_features=6, min_samples_leaf=5, min_samples_split=10, n_estimators=500; total time=   2.1s\n",
      "[CV] END max_depth=90, max_features=6, min_samples_leaf=5, min_samples_split=10, n_estimators=500; total time=   2.3s\n",
      "[CV] END max_depth=90, max_features=6, min_samples_leaf=5, min_samples_split=10, n_estimators=500; total time=   2.3s\n",
      "[CV] END max_depth=110, max_features=6, min_samples_leaf=5, min_samples_split=12, n_estimators=1000; total time=   4.8s\n",
      "[CV] END max_depth=110, max_features=6, min_samples_leaf=5, min_samples_split=12, n_estimators=1000; total time=   4.7s\n",
      "[CV] END max_depth=110, max_features=6, min_samples_leaf=5, min_samples_split=12, n_estimators=1000; total time=   5.1s\n",
      "[CV] END max_depth=110, max_features=6, min_samples_leaf=5, min_samples_split=12, n_estimators=1000; total time=   4.9s\n",
      "[CV] END max_depth=110, max_features=6, min_samples_leaf=5, min_samples_split=12, n_estimators=1000; total time=   4.4s\n",
      "[CV] END max_depth=100, max_features=6, min_samples_leaf=5, min_samples_split=12, n_estimators=500; total time=   2.3s\n",
      "[CV] END max_depth=100, max_features=6, min_samples_leaf=5, min_samples_split=12, n_estimators=500; total time=   2.5s\n",
      "[CV] END max_depth=100, max_features=6, min_samples_leaf=5, min_samples_split=12, n_estimators=500; total time=   2.2s\n",
      "[CV] END max_depth=100, max_features=6, min_samples_leaf=5, min_samples_split=12, n_estimators=500; total time=   2.2s\n",
      "[CV] END max_depth=100, max_features=6, min_samples_leaf=5, min_samples_split=12, n_estimators=500; total time=   2.1s\n",
      "[CV] END max_depth=110, max_features=9, min_samples_leaf=5, min_samples_split=12, n_estimators=1000; total time=   4.8s\n",
      "[CV] END max_depth=110, max_features=9, min_samples_leaf=5, min_samples_split=12, n_estimators=1000; total time=   4.7s\n",
      "[CV] END max_depth=110, max_features=9, min_samples_leaf=5, min_samples_split=12, n_estimators=1000; total time=   4.5s\n",
      "[CV] END max_depth=110, max_features=9, min_samples_leaf=5, min_samples_split=12, n_estimators=1000; total time=   4.3s\n",
      "[CV] END max_depth=110, max_features=9, min_samples_leaf=5, min_samples_split=12, n_estimators=1000; total time=   4.2s\n",
      "RandomForestRegressor(max_depth=110, max_features=6, min_samples_leaf=5,\n",
      "                      min_samples_split=12, n_estimators=1000, random_state=42)\n",
      "CV results RMSE: [-2.23995642e+08 -2.62537356e+08 -1.81771960e+08 -2.05699111e+08\n",
      " -2.09471781e+08]\n",
      "Mean RMSE: -216695170.0\n"
     ]
    }
   ],
   "source": [
    "from sklearn.model_selection import RandomizedSearchCV\n",
    "\n",
    "param_grid = {'max_depth': [90, 100, 110],\n",
    "'max_features': [6, 9],\n",
    "'min_samples_leaf': [4, 5],\n",
    "'min_samples_split': [10, 12],\n",
    "'n_estimators': [100, 500, 1000]\n",
    "}\n",
    "\n",
    "clf = RandomizedSearchCV(RandomForestRegressor(random_state=42), param_grid, random_state=0, n_iter=10, verbose=2)\n",
    "search = clf.fit(df[features], df.revenue)\n",
    "\n",
    "print(search.best_estimator_)\n",
    "model_performance(features, df, search.best_estimator_)\n"
   ]
  },
  {
   "cell_type": "code",
   "execution_count": 98,
   "id": "32ec5435",
   "metadata": {},
   "outputs": [
    {
     "name": "stdout",
     "output_type": "stream",
     "text": [
      "CV results RMSE: [-2.24713043e+08 -2.74493492e+08 -2.17173702e+08 -2.21267520e+08\n",
      " -2.35682481e+08]\n",
      "Mean RMSE: -234666047.6\n",
      "RandomizedSearchCV best estimator:\n",
      "CV results RMSE: [-2.09301325e+08 -2.66613002e+08 -1.89787784e+08 -2.07565546e+08\n",
      " -2.08703689e+08]\n",
      "Mean RMSE: -216394269.2\n",
      "R2 (all data): 0.7139482981347995\n",
      "R2 (train split): 0.6804815921540992\n",
      "R2 (test split): 0.6233286369302451\n"
     ]
    }
   ],
   "source": [
    "features = ['budget', 'release_date_int', 'budget_crew', 'duration', 'budget_per_minute']\n",
    "model_performance(features, df)\n",
    "\n",
    "print('RandomizedSearchCV best estimator:')\n",
    "model_performance(features, df, RandomForestRegressor(min_samples_split=12, n_estimators=1000, random_state=42))\n",
    "\n",
    "# Fit model on all data\n",
    "rf = RandomForestRegressor(min_samples_split=12, n_estimators=100, random_state=42)\n",
    "rf.fit(df[features], df['revenue'])\n",
    "\n",
    "# R2 on all data\n",
    "r2_all = rf.score(df[features], df['revenue'])\n",
    "print(\"R2 (all data):\", r2_all)\n",
    "\n",
    "# Train/test split for R2\n",
    "X = df[features]\n",
    "y = df['revenue']\n",
    "X_train_rf, X_test_rf, y_train_rf, y_test_rf = train_test_split(X, y, test_size=0.20, random_state=42)\n",
    "rf.fit(X_train_rf, y_train_rf)\n",
    "r2_train = rf.score(X_train_rf, y_train_rf)\n",
    "r2_test = rf.score(X_test_rf, y_test_rf)\n",
    "print(\"R2 (train split):\", r2_train)\n",
    "print(\"R2 (test split):\", r2_test)"
   ]
  },
  {
   "cell_type": "code",
   "execution_count": 99,
   "id": "94a164a2",
   "metadata": {},
   "outputs": [],
   "source": [
    "df.to_csv('data/movies_data_enriched_with_new_features_updated.csv')"
   ]
  },
  {
   "cell_type": "code",
   "execution_count": 102,
   "id": "bfd1c58b",
   "metadata": {},
   "outputs": [
    {
     "name": "stdout",
     "output_type": "stream",
     "text": [
      "Model saved as random_forest_regression_updated_v2.pkl\n",
      "Model trained on features: ['budget', 'release_date_int', 'budget_crew', 'duration', 'budget_per_minute']\n"
     ]
    }
   ],
   "source": [
    "import pickle\n",
    "\n",
    "# Create the best model from the RandomizedSearchCV results\n",
    "best_model = RandomForestRegressor(min_samples_split=12, n_estimators=1000, random_state=42)\n",
    "\n",
    "# Train the model with the best features\n",
    "best_model.fit(df[features], df.revenue)\n",
    "\n",
    "# Save the trained model as a .pkl file\n",
    "model_filename = \"random_forest_regression_updated_v2.pkl\"\n",
    "with open(model_filename, \"wb\") as f:\n",
    "    pickle.dump(best_model, f)\n",
    "\n",
    "print(f\"Model saved as {model_filename}\")\n",
    "print(f\"Model trained on features: {features}\")"
   ]
  },
  {
   "cell_type": "code",
   "execution_count": 96,
   "id": "a6ee4094",
   "metadata": {},
   "outputs": [
    {
     "data": {
      "image/png": "[encoded data removed]",
      "text/plain": [
       "<Figure size 800x400 with 1 Axes>"
      ]
     },
     "metadata": {},
     "output_type": "display_data"
    }
   ],
   "source": [
    "# Create a new feature importance plot for the random forest\n",
    "import matplotlib.pyplot as plt\n",
    "import pickle\n",
    "\n",
    "# Ensure best_model is defined (load from file if not)\n",
    "if 'best_model' not in locals():\n",
    "\twith open(\"random_forest_regression_uptadet.pkl\", \"rb\") as f:\n",
    "\t\tbest_model = pickle.load(f)\n",
    "\n",
    "# Get feature importances from the best_model\n",
    "importances = best_model.feature_importances_\n",
    "feature_names = features\n",
    "\n",
    "# Sort importances and feature names\n",
    "indices = np.argsort(importances)\n",
    "sorted_features = [feature_names[i] for i in indices]\n",
    "sorted_importances = importances[indices]\n",
    "\n",
    "# Plot\n",
    "plt.figure(figsize=(8, 4))\n",
    "plt.barh(sorted_features, sorted_importances, color='teal')\n",
    "plt.xlabel('Feature Importance')\n",
    "plt.title('Random Forest Feature Importances')\n",
    "plt.tight_layout()\n",
    "plt.show()"
   ]
  },
  {
   "cell_type": "code",
   "execution_count": 97,
   "id": "79813fb2",
   "metadata": {},
   "outputs": [
    {
     "name": "stdout",
     "output_type": "stream",
     "text": [
      "Genre Mapping:\n",
      "Action: 1\n",
      "Genre mapping saved to 'genre_mapping.csv'\n",
      "Adventure: 2\n",
      "Genre mapping saved to 'genre_mapping.csv'\n",
      "Animation: 3\n",
      "Genre mapping saved to 'genre_mapping.csv'\n",
      "Comedy: 4\n",
      "Genre mapping saved to 'genre_mapping.csv'\n",
      "Crime: 5\n",
      "Genre mapping saved to 'genre_mapping.csv'\n",
      "Documentary: 6\n",
      "Genre mapping saved to 'genre_mapping.csv'\n",
      "Drama: 7\n",
      "Genre mapping saved to 'genre_mapping.csv'\n",
      "Family: 8\n",
      "Genre mapping saved to 'genre_mapping.csv'\n",
      "Fantasy: 9\n",
      "Genre mapping saved to 'genre_mapping.csv'\n",
      "History: 10\n",
      "Genre mapping saved to 'genre_mapping.csv'\n",
      "Horror: 11\n",
      "Genre mapping saved to 'genre_mapping.csv'\n",
      "Music: 12\n",
      "Genre mapping saved to 'genre_mapping.csv'\n",
      "Mystery: 13\n",
      "Genre mapping saved to 'genre_mapping.csv'\n",
      "Romance: 14\n",
      "Genre mapping saved to 'genre_mapping.csv'\n",
      "Science Fiction: 15\n",
      "Genre mapping saved to 'genre_mapping.csv'\n",
      "TV Movie: 16\n",
      "Genre mapping saved to 'genre_mapping.csv'\n",
      "Thriller: 17\n",
      "Genre mapping saved to 'genre_mapping.csv'\n",
      "War: 18\n"
     ]
    },
    {
     "name": "stdout",
     "output_type": "stream",
     "text": [
      "Genre mapping saved to 'genre_mapping.csv'\n",
      "Western: 19\n",
      "Genre mapping saved to 'genre_mapping.csv'\n"
     ]
    }
   ],
   "source": [
    "print(\"Genre Mapping:\")\n",
    "for genre, code in genre_mapping.items():\n",
    "    print(f\"{genre}: {code}\")\n",
    "\n",
    "    # Save the genre mapping to a CSV file\n",
    "    genre_mapping_df = pd.DataFrame(list(genre_mapping.items()), columns=['Genre', 'Code'])\n",
    "    genre_mapping_df.to_csv('genre_mapping.csv', index=False)\n",
    "    print(\"Genre mapping saved to 'genre_mapping.csv'\")"
   ]
  }
 ],
 "metadata": {
  "kernelspec": {
   "display_name": ".venv",
   "language": "python",
   "name": "python3"
  },
  "language_info": {
   "codemirror_mode": {
    "name": "ipython",
    "version": 3
   },
   "file_extension": ".py",
   "mimetype": "text/x-python",
   "name": "python",
   "nbconvert_exporter": "python",
   "pygments_lexer": "ipython3",
   "version": "3.11.9"
  }
 },
 "nbformat": 4,
 "nbformat_minor": 5
}
