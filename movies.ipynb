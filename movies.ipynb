{
 "cells": [
  {
   "cell_type": "code",
   "execution_count": 16,
   "id": "23fc5a29",
   "metadata": {},
   "outputs": [],
   "source": [
    "import gradio as gr\n",
    "from sklearn.ensemble import RandomForestRegressor\n",
    "import numpy as np\n",
    "import pandas as pd\n",
    "import pickle"
   ]
  },
  {
   "cell_type": "code",
   "execution_count": 17,
   "id": "4b6e724f",
   "metadata": {},
   "outputs": [
    {
     "name": "stdout",
     "output_type": "stream",
     "text": [
      "Number of features:  7\n"
     ]
    },
    {
     "data": {
      "text/html": [
       "<style>#sk-container-id-2 {color: black;}#sk-container-id-2 pre{padding: 0;}#sk-container-id-2 div.sk-toggleable {background-color: white;}#sk-container-id-2 label.sk-toggleable__label {cursor: pointer;display: block;width: 100%;margin-bottom: 0;padding: 0.3em;box-sizing: border-box;text-align: center;}#sk-container-id-2 label.sk-toggleable__label-arrow:before {content: \"▸\";float: left;margin-right: 0.25em;color: #696969;}#sk-container-id-2 label.sk-toggleable__label-arrow:hover:before {color: black;}#sk-container-id-2 div.sk-estimator:hover label.sk-toggleable__label-arrow:before {color: black;}#sk-container-id-2 div.sk-toggleable__content {max-height: 0;max-width: 0;overflow: hidden;text-align: left;background-color: #f0f8ff;}#sk-container-id-2 div.sk-toggleable__content pre {margin: 0.2em;color: black;border-radius: 0.25em;background-color: #f0f8ff;}#sk-container-id-2 input.sk-toggleable__control:checked~div.sk-toggleable__content {max-height: 200px;max-width: 100%;overflow: auto;}#sk-container-id-2 input.sk-toggleable__control:checked~label.sk-toggleable__label-arrow:before {content: \"▾\";}#sk-container-id-2 div.sk-estimator input.sk-toggleable__control:checked~label.sk-toggleable__label {background-color: #d4ebff;}#sk-container-id-2 div.sk-label input.sk-toggleable__control:checked~label.sk-toggleable__label {background-color: #d4ebff;}#sk-container-id-2 input.sk-hidden--visually {border: 0;clip: rect(1px 1px 1px 1px);clip: rect(1px, 1px, 1px, 1px);height: 1px;margin: -1px;overflow: hidden;padding: 0;position: absolute;width: 1px;}#sk-container-id-2 div.sk-estimator {font-family: monospace;background-color: #f0f8ff;border: 1px dotted black;border-radius: 0.25em;box-sizing: border-box;margin-bottom: 0.5em;}#sk-container-id-2 div.sk-estimator:hover {background-color: #d4ebff;}#sk-container-id-2 div.sk-parallel-item::after {content: \"\";width: 100%;border-bottom: 1px solid gray;flex-grow: 1;}#sk-container-id-2 div.sk-label:hover label.sk-toggleable__label {background-color: #d4ebff;}#sk-container-id-2 div.sk-serial::before {content: \"\";position: absolute;border-left: 1px solid gray;box-sizing: border-box;top: 0;bottom: 0;left: 50%;z-index: 0;}#sk-container-id-2 div.sk-serial {display: flex;flex-direction: column;align-items: center;background-color: white;padding-right: 0.2em;padding-left: 0.2em;position: relative;}#sk-container-id-2 div.sk-item {position: relative;z-index: 1;}#sk-container-id-2 div.sk-parallel {display: flex;align-items: stretch;justify-content: center;background-color: white;position: relative;}#sk-container-id-2 div.sk-item::before, #sk-container-id-2 div.sk-parallel-item::before {content: \"\";position: absolute;border-left: 1px solid gray;box-sizing: border-box;top: 0;bottom: 0;left: 50%;z-index: -1;}#sk-container-id-2 div.sk-parallel-item {display: flex;flex-direction: column;z-index: 1;position: relative;background-color: white;}#sk-container-id-2 div.sk-parallel-item:first-child::after {align-self: flex-end;width: 50%;}#sk-container-id-2 div.sk-parallel-item:last-child::after {align-self: flex-start;width: 50%;}#sk-container-id-2 div.sk-parallel-item:only-child::after {width: 0;}#sk-container-id-2 div.sk-dashed-wrapped {border: 1px dashed gray;margin: 0 0.4em 0.5em 0.4em;box-sizing: border-box;padding-bottom: 0.4em;background-color: white;}#sk-container-id-2 div.sk-label label {font-family: monospace;font-weight: bold;display: inline-block;line-height: 1.2em;}#sk-container-id-2 div.sk-label-container {text-align: center;}#sk-container-id-2 div.sk-container {/* jupyter's `normalize.less` sets `[hidden] { display: none; }` but bootstrap.min.css set `[hidden] { display: none !important; }` so we also need the `!important` here to be able to override the default hidden behavior on the sphinx rendered scikit-learn.org. See: https://github.com/scikit-learn/scikit-learn/issues/21755 */display: inline-block !important;position: relative;}#sk-container-id-2 div.sk-text-repr-fallback {display: none;}</style><div id=\"sk-container-id-2\" class=\"sk-top-container\"><div class=\"sk-text-repr-fallback\"><pre>RandomForestRegressor(min_samples_split=12, n_estimators=500, random_state=42)</pre><b>In a Jupyter environment, please rerun this cell to show the HTML representation or trust the notebook. <br />On GitHub, the HTML representation is unable to render, please try loading this page with nbviewer.org.</b></div><div class=\"sk-container\" hidden><div class=\"sk-item\"><div class=\"sk-estimator sk-toggleable\"><input class=\"sk-toggleable__control sk-hidden--visually\" id=\"sk-estimator-id-2\" type=\"checkbox\" checked><label for=\"sk-estimator-id-2\" class=\"sk-toggleable__label sk-toggleable__label-arrow\">RandomForestRegressor</label><div class=\"sk-toggleable__content\"><pre>RandomForestRegressor(min_samples_split=12, n_estimators=500, random_state=42)</pre></div></div></div></div></div>"
      ],
      "text/plain": [
       "RandomForestRegressor(min_samples_split=12, n_estimators=500, random_state=42)"
      ]
     },
     "execution_count": 17,
     "metadata": {},
     "output_type": "execute_result"
    }
   ],
   "source": [
    "# TODO change the file to your own model.\n",
    "model_filename = \"random_forest_regression_updated.pkl\"\n",
    "\n",
    "random_forest_model = RandomForestRegressor()\n",
    "with open(model_filename, 'rb') as f:\n",
    "    random_forest_model = pickle.load(f)\n",
    "\n",
    "print('Number of features: ', random_forest_model.n_features_in_)\n",
    "random_forest_model"
   ]
  },
  {
   "cell_type": "code",
   "execution_count": 18,
   "id": "758ccbbb",
   "metadata": {},
   "outputs": [],
   "source": [
    "# Load genre encodings from genre_mapping.csv\n",
    "df_genres = pd.read_csv('genre_mapping.csv')\n"
   ]
  },
  {
   "cell_type": "code",
   "execution_count": 19,
   "id": "283352f0",
   "metadata": {},
   "outputs": [
    {
     "name": "stdout",
     "output_type": "stream",
     "text": [
      "               Genre  Code\n",
      "1  Action, Adventure     2\n"
     ]
    }
   ],
   "source": [
    "def search_genre_exact_match(search_string):\n",
    "    result = df_genres[df_genres['Genre'] == search_string]\n",
    "    return result\n",
    "\n",
    "# Example usage\n",
    "search_string = \"Action, Adventure\"\n",
    "exact_match = search_genre_exact_match(search_string)\n",
    "print(exact_match)"
   ]
  },
  {
   "cell_type": "code",
   "execution_count": 20,
   "id": "bd018d01",
   "metadata": {},
   "outputs": [
    {
     "name": "stdout",
     "output_type": "stream",
     "text": [
      "Number of crew members: 4\n"
     ]
    }
   ],
   "source": [
    "def count_crew_members(crew_string):\n",
    "    # Split the crew string by commas and count the resulting elements\n",
    "    crew_members = crew_string.split(',')\n",
    "    return len(crew_members)\n",
    "\n",
    "# Example usage\n",
    "crew_string = \"Director, Producer, Writer, Cinematographer\"\n",
    "crew_count = count_crew_members(crew_string)\n",
    "print(\"Number of crew members:\", crew_count)"
   ]
  },
  {
   "cell_type": "code",
   "execution_count": 21,
   "id": "a9a84bf6",
   "metadata": {},
   "outputs": [
    {
     "name": "stdout",
     "output_type": "stream",
     "text": [
      "Number of words in the overview: 3\n"
     ]
    }
   ],
   "source": [
    "def count_overview_words(overview_string):\n",
    "    # Split the overview string by spaces and count the resulting elements\n",
    "    words = overview_string.split()\n",
    "    return len(words)\n",
    "\n",
    "# Example usage\n",
    "overview_string = \"An action-packed adventure.\"\n",
    "overview_word_count = count_overview_words(overview_string)\n",
    "print(\"Number of words in the overview:\", overview_word_count)"
   ]
  },
  {
   "cell_type": "code",
   "execution_count": 22,
   "id": "3165a3a8",
   "metadata": {},
   "outputs": [
    {
     "name": "stdout",
     "output_type": "stream",
     "text": [
      "Converted date: 20230101\n"
     ]
    }
   ],
   "source": [
    "def convert_date_format(date_string):\n",
    "    # Split the input string by dots\n",
    "    day, month, year = date_string.split('.')\n",
    "    # Rearrange and return the date in YYYYMMDD format\n",
    "    return int(year + month + day)\n",
    "\n",
    "# Example usage\n",
    "date_string = \"01.01.2023\"\n",
    "converted_date = convert_date_format(date_string)\n",
    "print(\"Converted date:\", converted_date)"
   ]
  },
  {
   "cell_type": "code",
   "execution_count": 23,
   "id": "7da43624",
   "metadata": {},
   "outputs": [],
   "source": [
    "# Define the core prediction function\n",
    "def predict_movie(budget, genre_search_string, overview_string, crew_string, release_date_string, duration):\n",
    "    # Get the genre_code using the search_genre_exact_match function\n",
    "    genre_match = search_genre_exact_match(genre_search_string)\n",
    "    if genre_match.empty:\n",
    "        return -1  # Return -1 if no matching genre is found\n",
    "    genre_code = genre_match.iloc[0]['Code']\n",
    "    \n",
    "    # Get the crew_code_sum using the count_crew_members function\n",
    "    crew_code_sum = count_crew_members(crew_string)\n",
    "    \n",
    "    # Get the overview_word_count using the count_overview_words function\n",
    "    overview_word_count = count_overview_words(overview_string)\n",
    "    \n",
    "    # Get the release_date_int using the convert_date_format function\n",
    "    release_date_int = convert_date_format(release_date_string)\n",
    "\n",
    "    # Get Crew Budget\n",
    "    budget_crew = budget / crew_code_sum if crew_code_sum > 0 else 0\n",
    "    \n",
    "    # Create a DataFrame with the input features\n",
    "    input_data = pd.DataFrame([{\n",
    "        'budget': budget,\n",
    "        'genre_code': genre_code,\n",
    "        'overview_word_count': overview_word_count,\n",
    "        'crew_code_sum': crew_code_sum,\n",
    "        'release_date_int': release_date_int,\n",
    "        'budget_crew': budget_crew,\n",
    "        'duration': duration,\n",
    "    }])\n",
    "    \n",
    "    # Make the prediction using the random forest model\n",
    "    prediction = random_forest_model.predict(input_data)\n",
    "    return np.round(prediction[0], 0)"
   ]
  },
  {
   "cell_type": "code",
   "execution_count": 24,
   "id": "d39b0019",
   "metadata": {},
   "outputs": [
    {
     "data": {
      "text/plain": [
       "1657689364.0"
      ]
     },
     "execution_count": 24,
     "metadata": {},
     "output_type": "execute_result"
    }
   ],
   "source": [
    "predict_movie(30000000000, 'Action', 'A very Action packed movie', 'Director, Producer, Writer, Cinematographer', '01.01.2023', 120)"
   ]
  },
  {
   "cell_type": "code",
   "execution_count": 25,
   "id": "93c9de32",
   "metadata": {},
   "outputs": [
    {
     "name": "stdout",
     "output_type": "stream",
     "text": [
      "Running on local URL:  http://127.0.0.1:7861\n",
      "\n",
      "To create a public link, set `share=True` in `launch()`.\n"
     ]
    },
    {
     "data": {
      "text/html": [
       "<div><iframe src=\"http://127.0.0.1:7861/\" width=\"100%\" height=\"500\" allow=\"autoplay; camera; microphone; clipboard-read; clipboard-write;\" frameborder=\"0\" allowfullscreen></iframe></div>"
      ],
      "text/plain": [
       "<IPython.core.display.HTML object>"
      ]
     },
     "metadata": {},
     "output_type": "display_data"
    },
    {
     "data": {
      "text/plain": []
     },
     "execution_count": 25,
     "metadata": {},
     "output_type": "execute_result"
    },
    {
     "name": "stdout",
     "output_type": "stream",
     "text": [
      "IMPORTANT: You are using gradio version 3.50.2, however version 4.44.1 is available, please upgrade.\n",
      "--------\n"
     ]
    }
   ],
   "source": [
    "# Define a function to determine if the movie is a flop or hit\n",
    "def determine_flop_or_hit(budget, genre_search_string, overview_string, crew_string, release_date_string, duration):\n",
    "    # Predict the revenue using the predict_movie function\n",
    "    predicted_revenue = predict_movie(budget, genre_search_string, overview_string, crew_string, release_date_string, duration)\n",
    "    \n",
    "    # Determine if the movie is a flop or hit\n",
    "    if predicted_revenue - budget > 0:\n",
    "        return \"Hit\"\n",
    "    else:\n",
    "        return \"Flop\"\n",
    "\n",
    "# Create the Gradio interface\n",
    "iface = gr.Interface(\n",
    "    fn=lambda budget, genre_search_string, overview_string, crew_string, release_date_string, duration: (\n",
    "        predict_movie(budget, genre_search_string, overview_string, crew_string, release_date_string, duration),\n",
    "        determine_flop_or_hit(budget, genre_search_string, overview_string, crew_string, release_date_string, duration)\n",
    "    ),\n",
    "    inputs=[\n",
    "        gr.Number(label=\"Budget\"),\n",
    "        gr.Textbox(label=\"Genre Search String\"),\n",
    "        gr.Textbox(label=\"Overview String\"),\n",
    "        gr.Textbox(label=\"Crew String\"),\n",
    "        gr.Textbox(label=\"Release Date String (DD.MM.YYYY)\"),\n",
    "        gr.Number(label=\"Duration (in minutes)\")\n",
    "    ],\n",
    "    outputs=[\n",
    "        gr.Number(label=\"Predicted Revenue\"),\n",
    "        gr.Textbox(label=\"Flop or Hit\")\n",
    "    ],\n",
    "    examples=[\n",
    "        [30000000, \"Action, Adventure\", \"A very Action packed movie\", \"Jason Stattham, Chris Pratt, Scarlett Johansson\", \"01.01.2023\", 120],\n",
    "        [50000000, \"Comedy\", \"A hilarious comedy movie\", \"Tom Holland, Chris Evans\", \"15.06.2022\", 90],\n",
    "    ]\n",
    ")\n",
    "\n",
    "iface.launch()"
   ]
  }
 ],
 "metadata": {
  "kernelspec": {
   "display_name": ".venv",
   "language": "python",
   "name": "python3"
  },
  "language_info": {
   "codemirror_mode": {
    "name": "ipython",
    "version": 3
   },
   "file_extension": ".py",
   "mimetype": "text/x-python",
   "name": "python",
   "nbconvert_exporter": "python",
   "pygments_lexer": "ipython3",
   "version": "3.11.9"
  }
 },
 "nbformat": 4,
 "nbformat_minor": 5
}
